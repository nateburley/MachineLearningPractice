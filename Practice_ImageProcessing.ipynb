{
 "cells": [
  {
   "cell_type": "markdown",
   "metadata": {},
   "source": [
    "# Practicing Image Processing\n",
    "\n",
    "In this notebook, we will walk through some common image processing and computer vision techniques, including (but not limited to):\n",
    "  - Color manipulation\n",
    "  - Re-sizing\n",
    "  - Filtering and convolutions\n",
    "  \n",
    "Author: Nate Burley"
   ]
  },
  {
   "cell_type": "code",
   "execution_count": 3,
   "metadata": {},
   "outputs": [],
   "source": [
    "import cv2\n",
    "import numpy as np\n",
    "from PIL import Image\n",
    "\n",
    "# Open and display the test image!\n",
    "image_path = \"mona_lisa.jpeg\"\n",
    "im = Image.open(image_path)\n",
    "#im.show()\n",
    "\n",
    "# Try with OpenCV again...\n",
    "img_cv = cv2.imread(image_path)\n",
    "cv2.imshow('', img_cv)"
   ]
  },
  {
   "cell_type": "markdown",
   "metadata": {},
   "source": [
    "Cool. So next, let's play with the colors a bit."
   ]
  },
  {
   "cell_type": "code",
   "execution_count": 2,
   "metadata": {},
   "outputs": [],
   "source": [
    "# Get the image as a numpy array\n",
    "img_arr = np.array(im)\n",
    "\n",
    "# Extract and view just the red color channel\n",
    "red_img_arr = img_arr\n",
    "red_img_arr[:, :, 1] = 0  # Zero out the green channel\n",
    "red_img_arr[:, :, 2] = 0  # Zero out the blue channel\n",
    "red_img = Image.fromarray(red_img_arr, 'RGB')\n",
    "red_img.show()\n",
    "\n"
   ]
  }
 ],
 "metadata": {
  "kernelspec": {
   "display_name": "Python 3",
   "language": "python",
   "name": "python3"
  },
  "language_info": {
   "codemirror_mode": {
    "name": "ipython",
    "version": 3
   },
   "file_extension": ".py",
   "mimetype": "text/x-python",
   "name": "python",
   "nbconvert_exporter": "python",
   "pygments_lexer": "ipython3",
   "version": "3.7.7"
  }
 },
 "nbformat": 4,
 "nbformat_minor": 4
}
